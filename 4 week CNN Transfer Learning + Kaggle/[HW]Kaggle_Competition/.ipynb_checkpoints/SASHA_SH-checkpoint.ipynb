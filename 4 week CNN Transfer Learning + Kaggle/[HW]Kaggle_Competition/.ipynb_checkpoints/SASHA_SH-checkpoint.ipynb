{
 "cells": [
  {
   "cell_type": "markdown",
   "metadata": {
    "id": "fQlDjKcWcb1I"
   },
   "source": [
    "\n",
    "\n",
    "## **Физтех-Школа Прикладной математики и информатики (ФПМИ) МФТИ**"
   ]
  },
  {
   "cell_type": "markdown",
   "metadata": {
    "id": "Xw7YkEefehWo"
   },
   "source": [
    "# Путешествие по Спрингфилду.\n",
    "\n",
    "\n",
    "Сегодня вам предстоить помочь телекомпании FOX  в обработке их контента. Как вы знаете сериал Симсоны идет на телеэкранах более 25 лет и за это время скопилось очень много видео материала. Персоонажи менялись вместе с изменяющимися графическими технологиями   и Гомер 2018 не очень похож на Гомера 1989. Нашей задачей будет научиться классифицировать персонажей проживающих в Спрингфилде. Думаю, что нет смысла представлять каждого из них в отдельности.\n",
    "\n",
    "\n",
    "\n",
    " ![alt text](https://vignette.wikia.nocookie.net/simpsons/images/5/5a/Spider_fat_piglet.png/revision/latest/scale-to-width-down/640?cb=20111118140828)\n",
    "\n"
   ]
  },
  {
   "cell_type": "markdown",
   "metadata": {
    "id": "oG47vhLxKNln"
   },
   "source": [
    "### Установка зависимостей"
   ]
  },
  {
   "cell_type": "code",
   "execution_count": 1,
   "metadata": {
    "colab": {
     "base_uri": "https://localhost:8080/"
    },
    "executionInfo": {
     "elapsed": 3124,
     "status": "ok",
     "timestamp": 1639644374603,
     "user": {
      "displayName": "Alex Sham",
      "photoUrl": "https://lh3.googleusercontent.com/a/default-user=s64",
      "userId": "06199239520348582603"
     },
     "user_tz": -180
    },
    "id": "_ITX8q-BMkKu",
    "outputId": "ec966905-200f-4c96-d6cb-7ba1ffa06927"
   },
   "outputs": [
    {
     "name": "stdout",
     "output_type": "stream",
     "text": [
      "Requirement already satisfied: torch in /home/daniil/anaconda3/lib/python3.11/site-packages (2.1.0)\n",
      "Requirement already satisfied: torchvision in /home/daniil/anaconda3/lib/python3.11/site-packages (0.16.0)\n",
      "Requirement already satisfied: filelock in /home/daniil/anaconda3/lib/python3.11/site-packages (from torch) (3.9.0)\n",
      "Requirement already satisfied: typing-extensions in /home/daniil/anaconda3/lib/python3.11/site-packages (from torch) (4.5.0)\n",
      "Requirement already satisfied: sympy in /home/daniil/anaconda3/lib/python3.11/site-packages (from torch) (1.11.1)\n",
      "Requirement already satisfied: networkx in /home/daniil/anaconda3/lib/python3.11/site-packages (from torch) (2.8.4)\n",
      "Requirement already satisfied: jinja2 in /home/daniil/anaconda3/lib/python3.11/site-packages (from torch) (3.1.2)\n",
      "Requirement already satisfied: fsspec in /home/daniil/anaconda3/lib/python3.11/site-packages (from torch) (2023.4.0)\n",
      "Requirement already satisfied: nvidia-cuda-nvrtc-cu12==12.1.105 in /home/daniil/anaconda3/lib/python3.11/site-packages (from torch) (12.1.105)\n",
      "Requirement already satisfied: nvidia-cuda-runtime-cu12==12.1.105 in /home/daniil/anaconda3/lib/python3.11/site-packages (from torch) (12.1.105)\n",
      "Requirement already satisfied: nvidia-cuda-cupti-cu12==12.1.105 in /home/daniil/anaconda3/lib/python3.11/site-packages (from torch) (12.1.105)\n",
      "Requirement already satisfied: nvidia-cudnn-cu12==8.9.2.26 in /home/daniil/anaconda3/lib/python3.11/site-packages (from torch) (8.9.2.26)\n",
      "Requirement already satisfied: nvidia-cublas-cu12==12.1.3.1 in /home/daniil/anaconda3/lib/python3.11/site-packages (from torch) (12.1.3.1)\n",
      "Requirement already satisfied: nvidia-cufft-cu12==11.0.2.54 in /home/daniil/anaconda3/lib/python3.11/site-packages (from torch) (11.0.2.54)\n",
      "Requirement already satisfied: nvidia-curand-cu12==10.3.2.106 in /home/daniil/anaconda3/lib/python3.11/site-packages (from torch) (10.3.2.106)\n",
      "Requirement already satisfied: nvidia-cusolver-cu12==11.4.5.107 in /home/daniil/anaconda3/lib/python3.11/site-packages (from torch) (11.4.5.107)\n",
      "Requirement already satisfied: nvidia-cusparse-cu12==12.1.0.106 in /home/daniil/anaconda3/lib/python3.11/site-packages (from torch) (12.1.0.106)\n",
      "Requirement already satisfied: nvidia-nccl-cu12==2.18.1 in /home/daniil/anaconda3/lib/python3.11/site-packages (from torch) (2.18.1)\n",
      "Requirement already satisfied: nvidia-nvtx-cu12==12.1.105 in /home/daniil/anaconda3/lib/python3.11/site-packages (from torch) (12.1.105)\n",
      "Requirement already satisfied: triton==2.1.0 in /home/daniil/anaconda3/lib/python3.11/site-packages (from torch) (2.1.0)\n",
      "Requirement already satisfied: nvidia-nvjitlink-cu12 in /home/daniil/anaconda3/lib/python3.11/site-packages (from nvidia-cusolver-cu12==11.4.5.107->torch) (12.3.52)\n",
      "Requirement already satisfied: numpy in /home/daniil/anaconda3/lib/python3.11/site-packages (from torchvision) (1.23.5)\n",
      "Requirement already satisfied: requests in /home/daniil/anaconda3/lib/python3.11/site-packages (from torchvision) (2.29.0)\n",
      "Requirement already satisfied: pillow!=8.3.*,>=5.3.0 in /home/daniil/anaconda3/lib/python3.11/site-packages (from torchvision) (9.4.0)\n",
      "Requirement already satisfied: MarkupSafe>=2.0 in /home/daniil/anaconda3/lib/python3.11/site-packages (from jinja2->torch) (2.1.1)\n",
      "Requirement already satisfied: charset-normalizer<4,>=2 in /home/daniil/anaconda3/lib/python3.11/site-packages (from requests->torchvision) (2.0.4)\n",
      "Requirement already satisfied: idna<4,>=2.5 in /home/daniil/anaconda3/lib/python3.11/site-packages (from requests->torchvision) (3.4)\n",
      "Requirement already satisfied: urllib3<1.27,>=1.21.1 in /home/daniil/anaconda3/lib/python3.11/site-packages (from requests->torchvision) (1.26.16)\n",
      "Requirement already satisfied: certifi>=2017.4.17 in /home/daniil/anaconda3/lib/python3.11/site-packages (from requests->torchvision) (2023.7.22)\n",
      "Requirement already satisfied: mpmath>=0.19 in /home/daniil/anaconda3/lib/python3.11/site-packages (from sympy->torch) (1.2.1)\n"
     ]
    }
   ],
   "source": [
    "!pip install -U torch torchvision"
   ]
  },
  {
   "cell_type": "code",
   "execution_count": 2,
   "metadata": {
    "executionInfo": {
     "elapsed": 915,
     "status": "ok",
     "timestamp": 1639644375778,
     "user": {
      "displayName": "Alex Sham",
      "photoUrl": "https://lh3.googleusercontent.com/a/default-user=s64",
      "userId": "06199239520348582603"
     },
     "user_tz": -180
    },
    "id": "W-YekKLfK-3M"
   },
   "outputs": [],
   "source": [
    "# установка подходящей версии torch\n",
    "\n",
    "from os.path import exists\n",
    "cuda_output = !ldconfig -p|grep cudart.so|sed -e 's/.*\\.\\([0-9]*\\)\\.\\([0-9]*\\)$/cu\\1\\2/'\n",
    "accelerator = cuda_output[0] if exists('/dev/nvidia0') else 'cpu'\n",
    "\n",
    "import torch"
   ]
  },
  {
   "cell_type": "code",
   "execution_count": 3,
   "metadata": {
    "colab": {
     "base_uri": "https://localhost:8080/"
    },
    "executionInfo": {
     "elapsed": 242,
     "status": "ok",
     "timestamp": 1639644378982,
     "user": {
      "displayName": "Alex Sham",
      "photoUrl": "https://lh3.googleusercontent.com/a/default-user=s64",
      "userId": "06199239520348582603"
     },
     "user_tz": -180
    },
    "id": "WWgcwKwCLBfr",
    "outputId": "b08145f8-5f92-4f5b-f881-876fcfd0746d"
   },
   "outputs": [
    {
     "name": "stdout",
     "output_type": "stream",
     "text": [
      "CUDA is available!  Training on GPU ...\n"
     ]
    }
   ],
   "source": [
    "# we will verify that GPU is enabled for this notebook\n",
    "# following should print: CUDA is available!  Training on GPU ...\n",
    "# \n",
    "# if it prints otherwise, then you need to enable GPU: \n",
    "# from Menu > Runtime > Change Runtime Type > Hardware Accelerator > GPU\n",
    "\n",
    "import torch\n",
    "import numpy as np\n",
    "\n",
    "train_on_gpu = torch.cuda.is_available()\n",
    "\n",
    "if not train_on_gpu:\n",
    "    print('CUDA is not available.  Training on CPU ...')\n",
    "else:\n",
    "    print('CUDA is available!  Training on GPU ...')"
   ]
  },
  {
   "cell_type": "code",
   "execution_count": null,
   "metadata": {
    "colab": {
     "base_uri": "https://localhost:8080/",
     "height": 295
    },
    "executionInfo": {
     "elapsed": 10478,
     "status": "ok",
     "timestamp": 1639644391329,
     "user": {
      "displayName": "Alex Sham",
      "photoUrl": "https://lh3.googleusercontent.com/a/default-user=s64",
      "userId": "06199239520348582603"
     },
     "user_tz": -180
    },
    "id": "MXno2OSeLF3e",
    "outputId": "7c00d7a6-a879-43a5-9876-3623b70a9f9b"
   },
   "outputs": [
    {
     "name": "stdout",
     "output_type": "stream",
     "text": [
      "Found existing installation: Pillow 9.4.0\r\n",
      "Uninstalling Pillow-9.4.0:\r\n"
     ]
    }
   ],
   "source": [
    "# нам необходима версия pillow  5.3.0\n",
    "# удалим старую версию и установим новую\n",
    "!pip uninstall -y Pillow\n",
    "!pip install Pillow==5.3.0\n",
    "import PIL\n",
    "print(PIL.PILLOW_VERSION)\n",
    "# здесь должна быть версия 5.3.0. если это не так перехгрузите данный ноутбук:\n",
    "# Menu > Runtime > Restart Runtime"
   ]
  },
  {
   "cell_type": "markdown",
   "metadata": {
    "id": "TTQXgo_oYDx8"
   },
   "source": [
    "Подключаем к colab google drive"
   ]
  },
  {
   "cell_type": "code",
   "execution_count": null,
   "metadata": {
    "colab": {
     "base_uri": "https://localhost:8080/"
    },
    "executionInfo": {
     "elapsed": 14932,
     "status": "ok",
     "timestamp": 1639644412713,
     "user": {
      "displayName": "Alex Sham",
      "photoUrl": "https://lh3.googleusercontent.com/a/default-user=s64",
      "userId": "06199239520348582603"
     },
     "user_tz": -180
    },
    "id": "xA3o2xC3MlMI",
    "outputId": "77ce8d1e-2c89-4864-a6b2-ed2e88ccc3b9"
   },
   "outputs": [],
   "source": [
    "from google.colab import drive\n",
    "drive.mount('/content/gdrive/')"
   ]
  },
  {
   "cell_type": "code",
   "execution_count": null,
   "metadata": {
    "colab": {
     "base_uri": "https://localhost:8080/"
    },
    "executionInfo": {
     "elapsed": 1771,
     "status": "ok",
     "timestamp": 1639653664950,
     "user": {
      "displayName": "Alex Sham",
      "photoUrl": "https://lh3.googleusercontent.com/a/default-user=s64",
      "userId": "06199239520348582603"
     },
     "user_tz": -180
    },
    "id": "bZYrSqb4fa48",
    "outputId": "24ebf99e-2c1c-43e7-b7b4-2776f12e6a7c"
   },
   "outputs": [],
   "source": [
    "!rm -rf ./train\n",
    "!rm -rf ./testset\n",
    "!ls -al"
   ]
  },
  {
   "cell_type": "code",
   "execution_count": null,
   "metadata": {
    "colab": {
     "base_uri": "https://localhost:8080/"
    },
    "executionInfo": {
     "elapsed": 12846,
     "status": "ok",
     "timestamp": 1639653686261,
     "user": {
      "displayName": "Alex Sham",
      "photoUrl": "https://lh3.googleusercontent.com/a/default-user=s64",
      "userId": "06199239520348582603"
     },
     "user_tz": -180
    },
    "id": "kRGt7YicMxYI",
    "outputId": "3b398430-c6dd-44d7-820e-52e4d8551126"
   },
   "outputs": [],
   "source": [
    "!unzip -q /content/gdrive/MyDrive/Colab\\ Notebooks/dl-dz22/journey-springfield.zip"
   ]
  },
  {
   "cell_type": "code",
   "execution_count": null,
   "metadata": {
    "colab": {
     "base_uri": "https://localhost:8080/"
    },
    "executionInfo": {
     "elapsed": 365,
     "status": "ok",
     "timestamp": 1639653695710,
     "user": {
      "displayName": "Alex Sham",
      "photoUrl": "https://lh3.googleusercontent.com/a/default-user=s64",
      "userId": "06199239520348582603"
     },
     "user_tz": -180
    },
    "id": "D2dg3IHMMo-s",
    "outputId": "bec2eef6-f169-4f44-a7ec-c6dc324f6718"
   },
   "outputs": [],
   "source": [
    "!ls train"
   ]
  },
  {
   "cell_type": "code",
   "execution_count": null,
   "metadata": {
    "colab": {
     "base_uri": "https://localhost:8080/"
    },
    "executionInfo": {
     "elapsed": 238,
     "status": "ok",
     "timestamp": 1639653696818,
     "user": {
      "displayName": "Alex Sham",
      "photoUrl": "https://lh3.googleusercontent.com/a/default-user=s64",
      "userId": "06199239520348582603"
     },
     "user_tz": -180
    },
    "id": "GvWhlkiRMxih",
    "outputId": "85c42309-6f3c-4320-af31-6e09af001b94"
   },
   "outputs": [],
   "source": [
    "!nvidia-smi\n",
    "import torch\n",
    "torch.cuda.is_available()"
   ]
  },
  {
   "cell_type": "markdown",
   "metadata": {
    "id": "BD_8gK6PmgXk"
   },
   "source": [
    "В нашем тесте будет 990 картнок, для которых вам будет необходимо предсказать класс."
   ]
  },
  {
   "cell_type": "code",
   "execution_count": null,
   "metadata": {
    "executionInfo": {
     "elapsed": 288,
     "status": "ok",
     "timestamp": 1639653698667,
     "user": {
      "displayName": "Alex Sham",
      "photoUrl": "https://lh3.googleusercontent.com/a/default-user=s64",
      "userId": "06199239520348582603"
     },
     "user_tz": -180
    },
    "id": "naD6xsZzMxrC"
   },
   "outputs": [],
   "source": [
    "import pickle\n",
    "import numpy as np\n",
    "import random\n",
    "from skimage import io\n",
    "\n",
    "from tqdm import tqdm, tqdm_notebook\n",
    "from PIL import Image\n",
    "from pathlib import Path\n",
    "\n",
    "from torchvision import transforms \n",
    "from multiprocessing.pool import ThreadPool\n",
    "from sklearn.preprocessing import LabelEncoder\n",
    "from torch.utils.data import Dataset, DataLoader\n",
    "import torch.nn as nn\n",
    "\n",
    "\n",
    "from matplotlib import colors, pyplot as plt\n",
    "%matplotlib inline\n",
    "\n",
    "# в sklearn не все гладко, чтобы в colab удобно выводить картинки \n",
    "# мы будем игнорировать warnings\n",
    "import warnings\n",
    "warnings.filterwarnings(action='ignore', category=DeprecationWarning)\n"
   ]
  },
  {
   "cell_type": "markdown",
   "metadata": {
    "id": "SLS7R5T9Ncxp"
   },
   "source": [
    "Реализуем функцию воспроизводимости результата, для этого зафиксируем random seed"
   ]
  },
  {
   "cell_type": "code",
   "execution_count": null,
   "metadata": {
    "executionInfo": {
     "elapsed": 238,
     "status": "ok",
     "timestamp": 1639653700509,
     "user": {
      "displayName": "Alex Sham",
      "photoUrl": "https://lh3.googleusercontent.com/a/default-user=s64",
      "userId": "06199239520348582603"
     },
     "user_tz": -180
    },
    "id": "M_eLsm-c2N4T"
   },
   "outputs": [],
   "source": [
    "# Функцмя воспроизводимости результата\n",
    "def set_seed(seed):\n",
    "  torch.manual_seed(seed)\n",
    "  torch.cuda.manual_seed(seed)\n",
    "  torch.cuda.manual_seed_all(seed)\n",
    "  torch.backends.cudnn.deterministic = True\n",
    "  np.random.seed(seed)\n",
    "  random.seed(seed)\n",
    "\n",
    "# Установим значение равное 117 \n",
    "set_seed(117)"
   ]
  },
  {
   "cell_type": "code",
   "execution_count": null,
   "metadata": {
    "executionInfo": {
     "elapsed": 234,
     "status": "ok",
     "timestamp": 1639653702122,
     "user": {
      "displayName": "Alex Sham",
      "photoUrl": "https://lh3.googleusercontent.com/a/default-user=s64",
      "userId": "06199239520348582603"
     },
     "user_tz": -180
    },
    "id": "WTdzMtgJP15N"
   },
   "outputs": [],
   "source": [
    "# разные режимы датасета \n",
    "DATA_MODES = ['train', 'val', 'test']\n",
    "# все изображения будут масштабированы к размеру 224x224 px\n",
    "RESCALE_SIZE = 224\n",
    "# работаем на видеокарте\n",
    "DEVICE = torch.device(\"cuda\")"
   ]
  },
  {
   "cell_type": "markdown",
   "metadata": {
    "id": "HYFeKUzfy572"
   },
   "source": [
    "https://jhui.github.io/2018/02/09/PyTorch-Data-loading-preprocess_torchvision/\n"
   ]
  },
  {
   "cell_type": "markdown",
   "metadata": {
    "id": "8ecnkB2xK1aE"
   },
   "source": [
    "Ниже мы исспользуем враппер над датасетом для удобной работы. Вам стоит понимать, что происходит с LabelEncoder и  с torch.Transformation. \n",
    "\n",
    "ToTensor конвертирует  PIL Image с параметрами в диапазоне [0, 255] (как все пиксели) в FloatTensor размера (C x H x W) [0,1] , затем производится масштабирование:\n",
    "$input = \\frac{input - \\mu}{\\text{standard deviation}} $, <br>       константы - средние и дисперсии по каналам на основе ImageNet\n",
    "\n",
    "\n",
    "Стоит также отметить, что мы переопределяем метод __getitem__ для удобства работы с данной структурой данных.\n",
    " Также используется LabelEncoder для преобразования строковых меток классов в id и обратно. В описании датасета указано, что картинки разного размера, так как брались напрямую с видео, поэтому следуем привести их к одному размер (это делает метод  _prepare_sample) "
   ]
  },
  {
   "cell_type": "code",
   "execution_count": null,
   "metadata": {
    "executionInfo": {
     "elapsed": 233,
     "status": "ok",
     "timestamp": 1639653704347,
     "user": {
      "displayName": "Alex Sham",
      "photoUrl": "https://lh3.googleusercontent.com/a/default-user=s64",
      "userId": "06199239520348582603"
     },
     "user_tz": -180
    },
    "id": "cj32U5iTQUe4"
   },
   "outputs": [],
   "source": [
    "class SimpsonsDataset(Dataset):\n",
    "    \"\"\"\n",
    "    Датасет с картинками, который паралельно подгружает их из папок\n",
    "    производит скалирование и превращение в торчевые тензоры\n",
    "    \"\"\"\n",
    "    def __init__(self, files, mode):\n",
    "        super().__init__()\n",
    "        # список файлов для загрузки\n",
    "        self.files = sorted(files)\n",
    "        # режим работы\n",
    "        self.mode = mode\n",
    "\n",
    "        if self.mode not in DATA_MODES:\n",
    "            print(f\"{self.mode} is not correct; correct modes: {DATA_MODES}\")\n",
    "            raise NameError\n",
    "\n",
    "        self.len_ = len(self.files)\n",
    "     \n",
    "        self.label_encoder = LabelEncoder()\n",
    "\n",
    "        if self.mode != 'test':\n",
    "            self.labels = [path.parent.name for path in self.files]\n",
    "            self.label_encoder.fit(self.labels)\n",
    "\n",
    "            with open('label_encoder.pkl', 'wb') as le_dump_file:\n",
    "                  pickle.dump(self.label_encoder, le_dump_file)\n",
    "                      \n",
    "    def __len__(self):\n",
    "        return self.len_\n",
    "      \n",
    "    def load_sample(self, file):\n",
    "        image = Image.open(file)\n",
    "        image.load()\n",
    "        return image\n",
    "  \n",
    "    def __getitem__(self, index):\n",
    "        # для преобразования изображений в тензоры PyTorch и нормализации входа\n",
    "        transform = transforms.Compose([\n",
    "            transforms.ToTensor(),\n",
    "            transforms.Normalize([0.485, 0.456, 0.406], [0.229, 0.224, 0.225]) \n",
    "        ])\n",
    "        x = self.load_sample(self.files[index])\n",
    "        x = self._prepare_sample(x)\n",
    "        x = np.array(x / 255, dtype='float32')\n",
    "        x = transform(x)\n",
    "        if self.mode == 'test':\n",
    "            return x\n",
    "        else:   \n",
    "            label = self.labels[index]\n",
    "            label_id = self.label_encoder.transform([label])\n",
    "            y = label_id.item()\n",
    "            return x, y\n",
    "        \n",
    "    def _prepare_sample(self, image):\n",
    "        image = image.resize((RESCALE_SIZE, RESCALE_SIZE))\n",
    "        return np.array(image)"
   ]
  },
  {
   "cell_type": "code",
   "execution_count": null,
   "metadata": {
    "executionInfo": {
     "elapsed": 244,
     "status": "ok",
     "timestamp": 1639653706673,
     "user": {
      "displayName": "Alex Sham",
      "photoUrl": "https://lh3.googleusercontent.com/a/default-user=s64",
      "userId": "06199239520348582603"
     },
     "user_tz": -180
    },
    "id": "j_odtTEzcaWH"
   },
   "outputs": [],
   "source": [
    "def imshow(inp, title=None, plt_ax=plt, default=False):\n",
    "    \"\"\"Imshow для тензоров\"\"\"\n",
    "    inp = inp.numpy().transpose((1, 2, 0))\n",
    "    mean = np.array([0.485, 0.456, 0.406])\n",
    "    std = np.array([0.229, 0.224, 0.225])\n",
    "    inp = std * inp + mean\n",
    "    inp = np.clip(inp, 0, 1)\n",
    "    plt_ax.imshow(inp)\n",
    "    if title is not None:\n",
    "        plt_ax.set_title(title)\n",
    "    plt_ax.grid(False)"
   ]
  },
  {
   "cell_type": "code",
   "execution_count": null,
   "metadata": {
    "executionInfo": {
     "elapsed": 620,
     "status": "ok",
     "timestamp": 1639664773217,
     "user": {
      "displayName": "Alex Sham",
      "photoUrl": "https://lh3.googleusercontent.com/a/default-user=s64",
      "userId": "06199239520348582603"
     },
     "user_tz": -180
    },
    "id": "yUhzOq1zRJil"
   },
   "outputs": [],
   "source": [
    "TRAIN_DIR = Path('train/simpsons_dataset')\n",
    "TEST_DIR = Path('testset/testset')\n",
    "\n",
    "train_val_files = sorted(list(TRAIN_DIR.rglob('*.jpg')))\n",
    "test_files = sorted(list(TEST_DIR.rglob('*.jpg')))"
   ]
  },
  {
   "cell_type": "markdown",
   "metadata": {
    "id": "UphWFWG_4hQl"
   },
   "source": [
    "**Добавим в наш датасет изображения с аугментацией**"
   ]
  },
  {
   "cell_type": "code",
   "execution_count": null,
   "metadata": {
    "executionInfo": {
     "elapsed": 430,
     "status": "ok",
     "timestamp": 1639664775002,
     "user": {
      "displayName": "Alex Sham",
      "photoUrl": "https://lh3.googleusercontent.com/a/default-user=s64",
      "userId": "06199239520348582603"
     },
     "user_tz": -180
    },
    "id": "s6fs6AkLTz4-"
   },
   "outputs": [],
   "source": [
    "# Добавим две аугментации, как предложено в рекоменация в последнем параграфе\n",
    "# ColorJitter - произвольно изменяет яркость, контраст, насыщенность.\n",
    "# RandomRotation - поворачивает изображение на заданный угол\n",
    "# Используем распространенные параметы, те значения для яркости, контраста и насыщенности - 0.45\n",
    "# И угол поворота в диапазоне 15-35 градусов\n",
    "# Другие трансформации можно посмотреть тут https://pytorch.org/vision/stable/transforms.html\n",
    "\n",
    "augmentation = transforms.Compose([\n",
    "  transforms.ColorJitter(brightness = 0.35, contrast = 0.45, saturation = 0.55),\n",
    "  transforms.RandomRotation(degrees=(20, 35))\n",
    "])"
   ]
  },
  {
   "cell_type": "code",
   "execution_count": null,
   "metadata": {
    "executionInfo": {
     "elapsed": 430023,
     "status": "ok",
     "timestamp": 1639665223056,
     "user": {
      "displayName": "Alex Sham",
      "photoUrl": "https://lh3.googleusercontent.com/a/default-user=s64",
      "userId": "06199239520348582603"
     },
     "user_tz": -180
    },
    "id": "WPRtxuBPTSc_"
   },
   "outputs": [],
   "source": [
    "# Получаем список всех классов в папке train\n",
    "classes = np.array([train_file.parent.name for train_file in train_val_files])\n",
    "classes = np.unique(classes)\n",
    "\n",
    "# В каждой папке сохраним новые созданные аугментации. Для аугментированных файлов\n",
    "# создадим префикс aug_ чтобы отличать от оригинальных\n",
    "for cl in classes:\n",
    "  MY_DIR = Path('train/simpsons_dataset/' + cl)\n",
    "  files = sorted(list(MY_DIR.rglob('*.jpg')))\n",
    "  for fl in files:\n",
    "    new_path_image = '/content/train/simpsons_dataset/' + cl + '/' + 'aug_' + fl.name      \n",
    "    image = Image.open(fl)\n",
    "    new_image = augmentation(image)\n",
    "    new_image.save(new_path_image)\n"
   ]
  },
  {
   "cell_type": "code",
   "execution_count": null,
   "metadata": {
    "executionInfo": {
     "elapsed": 622,
     "status": "ok",
     "timestamp": 1639665251773,
     "user": {
      "displayName": "Alex Sham",
      "photoUrl": "https://lh3.googleusercontent.com/a/default-user=s64",
      "userId": "06199239520348582603"
     },
     "user_tz": -180
    },
    "id": "6cDUiXjA4lvM"
   },
   "outputs": [],
   "source": [
    "# Заново получаем train со списком изображений + наши новые аугментированные изображения\n",
    "TRAIN_DIR = Path('train/simpsons_dataset')\n",
    "train_val_files = sorted(list(TRAIN_DIR.rglob('*.jpg')))"
   ]
  },
  {
   "cell_type": "code",
   "execution_count": null,
   "metadata": {
    "executionInfo": {
     "elapsed": 326,
     "status": "ok",
     "timestamp": 1639665253005,
     "user": {
      "displayName": "Alex Sham",
      "photoUrl": "https://lh3.googleusercontent.com/a/default-user=s64",
      "userId": "06199239520348582603"
     },
     "user_tz": -180
    },
    "id": "TmPhhKKlRyCF"
   },
   "outputs": [],
   "source": [
    "from sklearn.model_selection import train_test_split\n",
    "\n",
    "train_val_labels = [path.parent.name for path in train_val_files]\n",
    "train_files, val_files = train_test_split(train_val_files, test_size=0.25,stratify=train_val_labels)"
   ]
  },
  {
   "cell_type": "code",
   "execution_count": null,
   "metadata": {
    "executionInfo": {
     "elapsed": 501,
     "status": "ok",
     "timestamp": 1639665254824,
     "user": {
      "displayName": "Alex Sham",
      "photoUrl": "https://lh3.googleusercontent.com/a/default-user=s64",
      "userId": "06199239520348582603"
     },
     "user_tz": -180
    },
    "id": "aAimOLjSQGTh"
   },
   "outputs": [],
   "source": [
    "val_dataset = SimpsonsDataset(val_files, mode='val')\n",
    "train_dataset = SimpsonsDataset(train_files, mode='train')"
   ]
  },
  {
   "cell_type": "code",
   "execution_count": null,
   "metadata": {
    "executionInfo": {
     "elapsed": 2,
     "status": "ok",
     "timestamp": 1639645459401,
     "user": {
      "displayName": "Alex Sham",
      "photoUrl": "https://lh3.googleusercontent.com/a/default-user=s64",
      "userId": "06199239520348582603"
     },
     "user_tz": -180
    },
    "id": "DMgIbm6hRwdQ"
   },
   "outputs": [],
   "source": [
    "# uncomment if you have problem with pillow\n",
    "# def register_extension(id, extension): Image.EXTENSION[extension.lower()] = id.upper()\n",
    "# Image.register_extension = register_extension\n",
    "# def register_extensions(id, extensions): \n",
    "#     for extension in extensions: register_extension(id, extension)\n",
    "# Image.register_extensions = register_extensions"
   ]
  },
  {
   "cell_type": "markdown",
   "metadata": {
    "id": "PmKSdyv1b7PD"
   },
   "source": [
    "Давайте посмотрим на наших героев внутри датасета."
   ]
  },
  {
   "cell_type": "code",
   "execution_count": null,
   "metadata": {
    "colab": {
     "base_uri": "https://localhost:8080/",
     "height": 499
    },
    "executionInfo": {
     "elapsed": 2772,
     "status": "ok",
     "timestamp": 1639665259055,
     "user": {
      "displayName": "Alex Sham",
      "photoUrl": "https://lh3.googleusercontent.com/a/default-user=s64",
      "userId": "06199239520348582603"
     },
     "user_tz": -180
    },
    "id": "ltitWp3lXAZt",
    "outputId": "4631501c-6e9c-4dba-bba2-adcef4aa451f"
   },
   "outputs": [],
   "source": [
    "fig, ax = plt.subplots(nrows=3, ncols=3,figsize=(8, 8), \\\n",
    "                        sharey=True, sharex=True)\n",
    "for fig_x in ax.flatten():\n",
    "    random_characters = int(np.random.uniform(0,1000))\n",
    "    im_val, label = val_dataset[random_characters]\n",
    "    img_label = \" \".join(map(lambda x: x.capitalize(),\\\n",
    "                val_dataset.label_encoder.inverse_transform([label])[0].split('_')))\n",
    "    imshow(im_val.data.cpu(), \\\n",
    "          title=img_label,plt_ax=fig_x)"
   ]
  },
  {
   "cell_type": "markdown",
   "metadata": {
    "id": "GpN9lSi4QVGt"
   },
   "source": [
    "Можете добавить ваши любимые сцены и классифицировать их. (веселые результаты можно кидать в чат)"
   ]
  },
  {
   "cell_type": "markdown",
   "metadata": {
    "id": "u6YcZk8vQR47"
   },
   "source": [
    "### Построение нейросети\n",
    "\n",
    "Запустить данную сеть будет вашим мини-заданием на первую неделю, чтобы было проще участвовать в соревновании.\n",
    "\n",
    "Данная архитектура будет очень простой и нужна для того, чтобы установить базовое понимание и получить простенький сабмит на Kaggle\n",
    "\n",
    "<!-- Здесь вам предлагается дописать сверточную сеть глубины 4/5.  -->\n",
    "\n",
    "*Описание слоев*:\n",
    "\n",
    "\n",
    "\n",
    "1. размерность входа: 3x224x224 \n",
    "2.размерности после слоя:  8x111x111\n",
    "3. 16x54x54\n",
    "4. 32x26x26\n",
    "5. 64x12x12\n",
    "6. выход: 96x5x5\n"
   ]
  },
  {
   "cell_type": "code",
   "execution_count": null,
   "metadata": {
    "executionInfo": {
     "elapsed": 253,
     "status": "ok",
     "timestamp": 1639665266702,
     "user": {
      "displayName": "Alex Sham",
      "photoUrl": "https://lh3.googleusercontent.com/a/default-user=s64",
      "userId": "06199239520348582603"
     },
     "user_tz": -180
    },
    "id": "1PJcWAhuji-i"
   },
   "outputs": [],
   "source": [
    "# Очень простая сеть\n",
    "class SimpleCnn(nn.Module):\n",
    "  \n",
    "    def __init__(self, n_classes):\n",
    "        super().__init__()\n",
    "        self.conv1 = nn.Sequential(\n",
    "            nn.Conv2d(in_channels=3, out_channels=8, kernel_size=3),           \n",
    "            nn.ReLU(),\n",
    "            nn.MaxPool2d(kernel_size=2)\n",
    "        )\n",
    "        self.conv2 = nn.Sequential(\n",
    "            nn.Conv2d(in_channels=8, out_channels=16, kernel_size=3),            \n",
    "            nn.ReLU(),\n",
    "            nn.MaxPool2d(kernel_size=2)\n",
    "        )\n",
    "        self.conv3 = nn.Sequential(\n",
    "            nn.Conv2d(in_channels=16, out_channels=32, kernel_size=3),            \n",
    "            nn.ReLU(),\n",
    "            nn.MaxPool2d(kernel_size=2)\n",
    "        )\n",
    "        self.conv4 = nn.Sequential(\n",
    "            nn.Conv2d(in_channels=32, out_channels=64, kernel_size=3),            \n",
    "            nn.ReLU(),\n",
    "            nn.MaxPool2d(kernel_size=2)\n",
    "        )\n",
    "        self.conv5 = nn.Sequential(\n",
    "            nn.Conv2d(in_channels=64, out_channels=96, kernel_size=3),            \n",
    "            nn.ReLU(),\n",
    "            nn.MaxPool2d(kernel_size=2)\n",
    "        )\n",
    "        \n",
    "        self.out = nn.Linear(96 * 5 * 5, n_classes)\n",
    "  \n",
    "  \n",
    "    def forward(self, x):\n",
    "        x = self.conv1(x)\n",
    "        x = self.conv2(x)\n",
    "        x = self.conv3(x)\n",
    "        x = self.conv4(x)\n",
    "        x = self.conv5(x)\n",
    "\n",
    "        x = x.view(x.size(0), -1)\n",
    "        logits = self.out(x)\n",
    "        return logits"
   ]
  },
  {
   "cell_type": "code",
   "execution_count": null,
   "metadata": {
    "executionInfo": {
     "elapsed": 244,
     "status": "ok",
     "timestamp": 1639665268578,
     "user": {
      "displayName": "Alex Sham",
      "photoUrl": "https://lh3.googleusercontent.com/a/default-user=s64",
      "userId": "06199239520348582603"
     },
     "user_tz": -180
    },
    "id": "e2mk7MNtcUhJ"
   },
   "outputs": [],
   "source": [
    "def fit_epoch(model, train_loader, criterion, optimizer):\n",
    "    running_loss = 0.0\n",
    "    running_corrects = 0\n",
    "    processed_data = 0\n",
    "\n",
    "    for inputs, labels in train_loader:\n",
    "        inputs = inputs.to(DEVICE)\n",
    "        labels = labels.to(DEVICE)\n",
    "        optimizer.zero_grad()\n",
    "\n",
    "        outputs = model(inputs)\n",
    "        loss = criterion(outputs, labels)\n",
    "        loss.backward()\n",
    "        optimizer.step()\n",
    "        preds = torch.argmax(outputs, 1)\n",
    "        running_loss += loss.item() * inputs.size(0)\n",
    "        running_corrects += torch.sum(preds == labels.data)\n",
    "        processed_data += inputs.size(0)\n",
    "              \n",
    "    train_loss = running_loss / processed_data\n",
    "    train_acc = running_corrects.cpu().numpy() / processed_data\n",
    "    return train_loss, train_acc"
   ]
  },
  {
   "cell_type": "code",
   "execution_count": null,
   "metadata": {
    "executionInfo": {
     "elapsed": 227,
     "status": "ok",
     "timestamp": 1639665270400,
     "user": {
      "displayName": "Alex Sham",
      "photoUrl": "https://lh3.googleusercontent.com/a/default-user=s64",
      "userId": "06199239520348582603"
     },
     "user_tz": -180
    },
    "id": "w_CD9--hcUjs"
   },
   "outputs": [],
   "source": [
    "def eval_epoch(model, val_loader, criterion):\n",
    "    model.eval()\n",
    "    running_loss = 0.0\n",
    "    running_corrects = 0\n",
    "    processed_size = 0\n",
    "\n",
    "    for inputs, labels in val_loader:\n",
    "        inputs = inputs.to(DEVICE)\n",
    "        labels = labels.to(DEVICE)\n",
    "\n",
    "        with torch.set_grad_enabled(False):\n",
    "            outputs = model(inputs)\n",
    "            loss = criterion(outputs, labels)\n",
    "            preds = torch.argmax(outputs, 1)\n",
    "\n",
    "        running_loss += loss.item() * inputs.size(0)\n",
    "        running_corrects += torch.sum(preds == labels.data)\n",
    "        processed_size += inputs.size(0)\n",
    "    val_loss = running_loss / processed_size\n",
    "    val_acc = running_corrects.double() / processed_size\n",
    "    return val_loss, val_acc"
   ]
  },
  {
   "cell_type": "code",
   "execution_count": null,
   "metadata": {
    "executionInfo": {
     "elapsed": 227,
     "status": "ok",
     "timestamp": 1639665272642,
     "user": {
      "displayName": "Alex Sham",
      "photoUrl": "https://lh3.googleusercontent.com/a/default-user=s64",
      "userId": "06199239520348582603"
     },
     "user_tz": -180
    },
    "id": "aTc7bfzlFpGk"
   },
   "outputs": [],
   "source": [
    "# Добавим изменение скорости обучения в зависимости от количества эпох\n",
    "from torch.optim import lr_scheduler"
   ]
  },
  {
   "cell_type": "code",
   "execution_count": null,
   "metadata": {
    "executionInfo": {
     "elapsed": 229,
     "status": "ok",
     "timestamp": 1639665274034,
     "user": {
      "displayName": "Alex Sham",
      "photoUrl": "https://lh3.googleusercontent.com/a/default-user=s64",
      "userId": "06199239520348582603"
     },
     "user_tz": -180
    },
    "id": "NaxYIwB3cUmX"
   },
   "outputs": [],
   "source": [
    "def train(train_files, val_files, model, epochs, lr, batch_size, step_size, gamma):\n",
    "    train_loader = DataLoader(train_dataset, batch_size=batch_size, shuffle=True)\n",
    "    val_loader = DataLoader(val_dataset, batch_size=batch_size, shuffle=False)\n",
    "\n",
    "    history = []\n",
    "    log_template = \"\\nEpoch {ep:03d} train_loss: {t_loss:0.4f} \\\n",
    "    val_loss {v_loss:0.4f} train_acc {t_acc:0.4f} val_acc {v_acc:0.4f}\"\n",
    "\n",
    "    # Переменные для сохранения лучших показателей модели    \n",
    "    best_acc = 0.0\n",
    "    best_state = model.state_dict()\n",
    "\n",
    "    with tqdm(desc=\"epoch\", total=epochs) as pbar_outer:\n",
    "        opt = torch.optim.Adam(model.parameters(), lr=lr)        \n",
    "        criterion = nn.CrossEntropyLoss()\n",
    "        \n",
    "        # Снижает скорость обучения каждой группы параметров на гамму каждые step_size эпох\n",
    "        scheduler = lr_scheduler.StepLR(opt, step_size=step_size, gamma=gamma)\n",
    "\n",
    "        for epoch in range(epochs):     \n",
    "            train_loss, train_acc = fit_epoch(model, train_loader, criterion, opt)   \n",
    "            scheduler.step() \n",
    "            print(\"loss\", train_loss)\n",
    "            \n",
    "            val_loss, val_acc = eval_epoch(model, val_loader, criterion)\n",
    "            history.append((train_loss, train_acc, val_loss, val_acc))\n",
    "            \n",
    "            pbar_outer.update(1)\n",
    "            tqdm.write(log_template.format(ep=epoch+1, t_loss=train_loss,\\\n",
    "                                           v_loss=val_loss, t_acc=train_acc, v_acc=val_acc))\n",
    "            \n",
    "            # Сравниваем точность модели текущей эпохи и лучшей сохраненной \n",
    "            if train_acc > best_acc:\n",
    "                best_acc = train_acc\n",
    "                best_state = model.state_dict()\n",
    "\n",
    "    # Сохраняем лучший state в нашу модель\n",
    "    model.load_state_dict(best_state)            \n",
    "    return history"
   ]
  },
  {
   "cell_type": "code",
   "execution_count": null,
   "metadata": {
    "executionInfo": {
     "elapsed": 236,
     "status": "ok",
     "timestamp": 1639665276314,
     "user": {
      "displayName": "Alex Sham",
      "photoUrl": "https://lh3.googleusercontent.com/a/default-user=s64",
      "userId": "06199239520348582603"
     },
     "user_tz": -180
    },
    "id": "v6G7qbYqcUpL"
   },
   "outputs": [],
   "source": [
    "def predict(model, test_loader):\n",
    "    with torch.no_grad():\n",
    "        logits = []\n",
    "    \n",
    "        for inputs in test_loader:\n",
    "            inputs = inputs.to(DEVICE)\n",
    "            model.eval()\n",
    "            outputs = model(inputs).cpu()\n",
    "            logits.append(outputs)\n",
    "            \n",
    "    probs = nn.functional.softmax(torch.cat(logits), dim=-1).numpy()\n",
    "    return probs"
   ]
  },
  {
   "cell_type": "code",
   "execution_count": null,
   "metadata": {
    "executionInfo": {
     "elapsed": 229,
     "status": "ok",
     "timestamp": 1639665278043,
     "user": {
      "displayName": "Alex Sham",
      "photoUrl": "https://lh3.googleusercontent.com/a/default-user=s64",
      "userId": "06199239520348582603"
     },
     "user_tz": -180
    },
    "id": "0GGer2g4f94r"
   },
   "outputs": [],
   "source": [
    "from torchvision import models, datasets"
   ]
  },
  {
   "cell_type": "code",
   "execution_count": null,
   "metadata": {
    "colab": {
     "base_uri": "https://localhost:8080/"
    },
    "executionInfo": {
     "elapsed": 1380,
     "status": "ok",
     "timestamp": 1639665280484,
     "user": {
      "displayName": "Alex Sham",
      "photoUrl": "https://lh3.googleusercontent.com/a/default-user=s64",
      "userId": "06199239520348582603"
     },
     "user_tz": -180
    },
    "id": "RnVB_WGGgVFD",
    "outputId": "e902d620-51ed-4681-92f5-a1977cd3de26"
   },
   "outputs": [],
   "source": [
    "# Вместо простой SimpleCnn возьмем resnet152\n",
    "n_classes = len(np.unique(train_val_labels))\n",
    "model_resnet = models.resnet152(pretrained=True).to(DEVICE)    \n",
    "print(\"we will classify :{}\".format(n_classes))\n",
    "print(model_resnet)"
   ]
  },
  {
   "cell_type": "markdown",
   "metadata": {
    "id": "hLViC0kzhPeQ"
   },
   "source": [
    "**Произведем дообучение**"
   ]
  },
  {
   "cell_type": "code",
   "execution_count": null,
   "metadata": {
    "colab": {
     "base_uri": "https://localhost:8080/"
    },
    "executionInfo": {
     "elapsed": 372,
     "status": "ok",
     "timestamp": 1639665285497,
     "user": {
      "displayName": "Alex Sham",
      "photoUrl": "https://lh3.googleusercontent.com/a/default-user=s64",
      "userId": "06199239520348582603"
     },
     "user_tz": -180
    },
    "id": "UILlq6eugerR",
    "outputId": "ded3bb7d-d6d7-4296-b405-3d2d0b58ca66"
   },
   "outputs": [],
   "source": [
    "num_features = model_resnet.fc.in_features\n",
    "n_classes = len(np.unique(train_val_labels))\n",
    "model_resnet.fc = nn.Linear(num_features, n_classes)\n",
    "model_resnet = model_resnet.cuda()\n",
    "print(model_resnet.fc.in_features, n_classes)\n",
    "    "
   ]
  },
  {
   "cell_type": "code",
   "execution_count": null,
   "metadata": {
    "colab": {
     "base_uri": "https://localhost:8080/"
    },
    "executionInfo": {
     "elapsed": 239,
     "status": "ok",
     "timestamp": 1639653219449,
     "user": {
      "displayName": "Alex Sham",
      "photoUrl": "https://lh3.googleusercontent.com/a/default-user=s64",
      "userId": "06199239520348582603"
     },
     "user_tz": -180
    },
    "id": "bbxlaALU8n6R",
    "outputId": "f1be42ec-8ae8-4555-e3f6-cb3d2ee0a01e"
   },
   "outputs": [],
   "source": [
    "#n_classes = len(np.unique(train_val_labels))\n",
    "#simple_cnn = SimpleCnn(n_classes).to(DEVICE)\n",
    "#print(\"we will classify :{}\".format(n_classes))\n",
    "#print(simple_cnn)"
   ]
  },
  {
   "cell_type": "markdown",
   "metadata": {
    "id": "bo3UND5RdgVg"
   },
   "source": [
    "Запустим обучение сети."
   ]
  },
  {
   "cell_type": "code",
   "execution_count": null,
   "metadata": {
    "executionInfo": {
     "elapsed": 721,
     "status": "ok",
     "timestamp": 1639665293915,
     "user": {
      "displayName": "Alex Sham",
      "photoUrl": "https://lh3.googleusercontent.com/a/default-user=s64",
      "userId": "06199239520348582603"
     },
     "user_tz": -180
    },
    "id": "WDkcxZ1kfD4a"
   },
   "outputs": [],
   "source": [
    "#if val_dataset is None:\n",
    "val_dataset = SimpsonsDataset(val_files, mode='val')\n",
    "    \n",
    "train_dataset = SimpsonsDataset(train_files, mode='train')"
   ]
  },
  {
   "cell_type": "code",
   "execution_count": null,
   "metadata": {
    "colab": {
     "base_uri": "https://localhost:8080/"
    },
    "executionInfo": {
     "elapsed": 8280482,
     "status": "ok",
     "timestamp": 1639673597235,
     "user": {
      "displayName": "Alex Sham",
      "photoUrl": "https://lh3.googleusercontent.com/a/default-user=s64",
      "userId": "06199239520348582603"
     },
     "user_tz": -180
    },
    "id": "iDXoR8PIdfLD",
    "outputId": "b3a016b7-2037-4b2e-a45a-2af3b0462796"
   },
   "outputs": [],
   "source": [
    "history = train(train_dataset, val_dataset, model=model_resnet, epochs=10, lr=0.0001, batch_size=24, step_size=2, gamma=0.1)"
   ]
  },
  {
   "cell_type": "code",
   "execution_count": null,
   "metadata": {
    "colab": {
     "base_uri": "https://localhost:8080/"
    },
    "executionInfo": {
     "elapsed": 1158,
     "status": "ok",
     "timestamp": 1639673690186,
     "user": {
      "displayName": "Alex Sham",
      "photoUrl": "https://lh3.googleusercontent.com/a/default-user=s64",
      "userId": "06199239520348582603"
     },
     "user_tz": -180
    },
    "id": "xvbysDco6nUG",
    "outputId": "cdb71077-dea1-407e-abb7-1a97bfce150f"
   },
   "outputs": [],
   "source": [
    "# Сохраняем веса нашей модели\n",
    "torch.save(model_resnet.state_dict(), 'resnet.pth')\n",
    "model_resnet.load_state_dict(torch.load('resnet.pth'))"
   ]
  },
  {
   "cell_type": "markdown",
   "metadata": {
    "id": "7qMAdL_BduXZ"
   },
   "source": [
    "Построим кривые обучения"
   ]
  },
  {
   "cell_type": "code",
   "execution_count": null,
   "metadata": {
    "executionInfo": {
     "elapsed": 246,
     "status": "ok",
     "timestamp": 1639673691627,
     "user": {
      "displayName": "Alex Sham",
      "photoUrl": "https://lh3.googleusercontent.com/a/default-user=s64",
      "userId": "06199239520348582603"
     },
     "user_tz": -180
    },
    "id": "2ryD_9yFdfNr"
   },
   "outputs": [],
   "source": [
    "loss, acc, val_loss, val_acc = zip(*history)"
   ]
  },
  {
   "cell_type": "code",
   "execution_count": null,
   "metadata": {
    "colab": {
     "base_uri": "https://localhost:8080/",
     "height": 551
    },
    "executionInfo": {
     "elapsed": 404,
     "status": "ok",
     "timestamp": 1639673694020,
     "user": {
      "displayName": "Alex Sham",
      "photoUrl": "https://lh3.googleusercontent.com/a/default-user=s64",
      "userId": "06199239520348582603"
     },
     "user_tz": -180
    },
    "id": "GpQDWGkfdfQ5",
    "outputId": "2eb5f052-cdd6-4595-98f5-3e478ffc4a79"
   },
   "outputs": [],
   "source": [
    "plt.figure(figsize=(15, 9))\n",
    "plt.plot(loss, label=\"train_loss\")\n",
    "plt.plot(val_loss, label=\"val_loss\")\n",
    "plt.legend(loc='best')\n",
    "plt.xlabel(\"epochs\")\n",
    "plt.ylabel(\"loss\")\n",
    "plt.show()"
   ]
  },
  {
   "cell_type": "markdown",
   "metadata": {
    "id": "Gr9lRCJNNDfD"
   },
   "source": [
    "### Ну и что теперь со всем этим делать?"
   ]
  },
  {
   "cell_type": "markdown",
   "metadata": {
    "id": "DSe0nQ-dJ8uy"
   },
   "source": [
    "![alt text](https://www.indiewire.com/wp-content/uploads/2014/08/the-simpsons.jpg)"
   ]
  },
  {
   "cell_type": "markdown",
   "metadata": {
    "id": "y5k0UGeTNaQX"
   },
   "source": [
    "Хорошо бы понять, как сделать сабмит. \n",
    "У нас есть сеть и методы eval у нее, которые позволяют перевести сеть в режим предсказания. Стоит понимать, что у нашей модели на последнем слое стоит softmax, которые позволяет получить вектор вероятностей  того, что объект относится к тому или иному классу. Давайте воспользуемся этим."
   ]
  },
  {
   "cell_type": "code",
   "execution_count": null,
   "metadata": {
    "executionInfo": {
     "elapsed": 227,
     "status": "ok",
     "timestamp": 1639673702140,
     "user": {
      "displayName": "Alex Sham",
      "photoUrl": "https://lh3.googleusercontent.com/a/default-user=s64",
      "userId": "06199239520348582603"
     },
     "user_tz": -180
    },
    "id": "Z8PlF6o0N9O1"
   },
   "outputs": [],
   "source": [
    "def predict_one_sample(model, inputs, device=DEVICE):\n",
    "    \"\"\"Предсказание, для одной картинки\"\"\"\n",
    "    with torch.no_grad():\n",
    "        inputs = inputs.to(device)\n",
    "        model.eval()\n",
    "        logit = model(inputs).cpu()\n",
    "        probs = torch.nn.functional.softmax(logit, dim=-1).numpy()\n",
    "    return probs"
   ]
  },
  {
   "cell_type": "code",
   "execution_count": null,
   "metadata": {
    "executionInfo": {
     "elapsed": 251,
     "status": "ok",
     "timestamp": 1639673703830,
     "user": {
      "displayName": "Alex Sham",
      "photoUrl": "https://lh3.googleusercontent.com/a/default-user=s64",
      "userId": "06199239520348582603"
     },
     "user_tz": -180
    },
    "id": "pY_OoLoVO_9V"
   },
   "outputs": [],
   "source": [
    "random_characters = int(np.random.uniform(0,1000))\n",
    "ex_img, true_label = val_dataset[random_characters]\n",
    "probs_im = predict_one_sample(model_resnet, ex_img.unsqueeze(0))"
   ]
  },
  {
   "cell_type": "code",
   "execution_count": null,
   "metadata": {
    "executionInfo": {
     "elapsed": 1283,
     "status": "ok",
     "timestamp": 1639673706445,
     "user": {
      "displayName": "Alex Sham",
      "photoUrl": "https://lh3.googleusercontent.com/a/default-user=s64",
      "userId": "06199239520348582603"
     },
     "user_tz": -180
    },
    "id": "caivVFeAN9SY"
   },
   "outputs": [],
   "source": [
    "idxs = list(map(int, np.random.uniform(0,1000, 20)))\n",
    "imgs = [val_dataset[id][0].unsqueeze(0) for id in idxs]\n",
    "\n",
    "probs_ims = predict(model_resnet, imgs)"
   ]
  },
  {
   "cell_type": "code",
   "execution_count": null,
   "metadata": {
    "executionInfo": {
     "elapsed": 239,
     "status": "ok",
     "timestamp": 1639673707737,
     "user": {
      "displayName": "Alex Sham",
      "photoUrl": "https://lh3.googleusercontent.com/a/default-user=s64",
      "userId": "06199239520348582603"
     },
     "user_tz": -180
    },
    "id": "t-0pRdHnQQKM"
   },
   "outputs": [],
   "source": [
    "label_encoder = pickle.load(open(\"label_encoder.pkl\", 'rb'))"
   ]
  },
  {
   "cell_type": "code",
   "execution_count": null,
   "metadata": {
    "executionInfo": {
     "elapsed": 223,
     "status": "ok",
     "timestamp": 1639673709836,
     "user": {
      "displayName": "Alex Sham",
      "photoUrl": "https://lh3.googleusercontent.com/a/default-user=s64",
      "userId": "06199239520348582603"
     },
     "user_tz": -180
    },
    "id": "GNMFc7sfQh1a"
   },
   "outputs": [],
   "source": [
    "y_pred = np.argmax(probs_ims,-1)\n",
    "\n",
    "actual_labels = [val_dataset[id][1] for id in idxs]\n",
    "\n",
    "preds_class = [label_encoder.classes_[i] for i in y_pred]"
   ]
  },
  {
   "cell_type": "code",
   "execution_count": null,
   "metadata": {
    "colab": {
     "base_uri": "https://localhost:8080/"
    },
    "executionInfo": {
     "elapsed": 3,
     "status": "ok",
     "timestamp": 1639673712796,
     "user": {
      "displayName": "Alex Sham",
      "photoUrl": "https://lh3.googleusercontent.com/a/default-user=s64",
      "userId": "06199239520348582603"
     },
     "user_tz": -180
    },
    "id": "OzYxg5emuXe0",
    "outputId": "acf4c3a7-8f25-4909-ba9c-be3ad5a2050c"
   },
   "outputs": [],
   "source": [
    "print(*actual_labels)\n",
    "print(*y_pred)"
   ]
  },
  {
   "cell_type": "markdown",
   "metadata": {
    "id": "iVePL0-BKHrF"
   },
   "source": [
    "Обратите внимание, что метрика, которую необходимо оптимизировать в конкурсе --- f1-score. Вычислим целевую метрику на валидационной выборке."
   ]
  },
  {
   "cell_type": "code",
   "execution_count": null,
   "metadata": {
    "colab": {
     "base_uri": "https://localhost:8080/"
    },
    "executionInfo": {
     "elapsed": 245,
     "status": "ok",
     "timestamp": 1639673716819,
     "user": {
      "displayName": "Alex Sham",
      "photoUrl": "https://lh3.googleusercontent.com/a/default-user=s64",
      "userId": "06199239520348582603"
     },
     "user_tz": -180
    },
    "id": "_h-9dDWsKGU-",
    "outputId": "005131e9-b5e7-418e-8db1-8314007d73f6"
   },
   "outputs": [],
   "source": [
    "from sklearn.metrics import f1_score\n",
    "\n",
    "f1_score(actual_labels, y_pred, average='macro')"
   ]
  },
  {
   "cell_type": "markdown",
   "metadata": {
    "id": "pxB9pfPfdCHr"
   },
   "source": [
    "Сделаем классную визуализацию,  чтобы посмотреть насколько сеть уверена в своих ответах. Можете исспользовать это, чтобы отлаживать правильность вывода."
   ]
  },
  {
   "cell_type": "code",
   "execution_count": null,
   "metadata": {
    "colab": {
     "base_uri": "https://localhost:8080/",
     "height": 716
    },
    "executionInfo": {
     "elapsed": 3998,
     "status": "ok",
     "timestamp": 1639673723637,
     "user": {
      "displayName": "Alex Sham",
      "photoUrl": "https://lh3.googleusercontent.com/a/default-user=s64",
      "userId": "06199239520348582603"
     },
     "user_tz": -180
    },
    "id": "VVjq4EC5ZZE7",
    "outputId": "ba179f3f-1d4f-40d0-e4b0-626969274c1d"
   },
   "outputs": [],
   "source": [
    "import matplotlib.patches as patches\n",
    "from matplotlib.font_manager import FontProperties\n",
    "\n",
    "fig, ax = plt.subplots(nrows=3, ncols=3,figsize=(12, 12), \\\n",
    "                        sharey=True, sharex=True)\n",
    "for fig_x in ax.flatten():\n",
    "    random_characters = int(np.random.uniform(0,1000))\n",
    "    im_val, label = val_dataset[random_characters]\n",
    "    img_label = \" \".join(map(lambda x: x.capitalize(),\\\n",
    "                val_dataset.label_encoder.inverse_transform([label])[0].split('_')))\n",
    "    \n",
    "    \n",
    "\n",
    "    imshow(im_val.data.cpu(), \\\n",
    "          title=img_label,plt_ax=fig_x)\n",
    "    \n",
    "    actual_text = \"Actual : {}\".format(img_label)\n",
    "            \n",
    "    fig_x.add_patch(patches.Rectangle((0, 53),86,35,color='white'))\n",
    "    font0 = FontProperties()\n",
    "    font = font0.copy()\n",
    "    font.set_family(\"fantasy\")\n",
    "    prob_pred = predict_one_sample(model_resnet, im_val.unsqueeze(0))\n",
    "    predicted_proba = np.max(prob_pred)*100\n",
    "    y_pred = np.argmax(prob_pred)\n",
    "    \n",
    "    predicted_label = label_encoder.classes_[y_pred]\n",
    "    predicted_label = predicted_label[:len(predicted_label)//2] + '\\n' + predicted_label[len(predicted_label)//2:]\n",
    "    predicted_text = \"{} : {:.0f}%\".format(predicted_label,predicted_proba)\n",
    "            \n",
    "    fig_x.text(1, 59, predicted_text , horizontalalignment='left', fontproperties=font,\n",
    "                    verticalalignment='top',fontsize=8, color='black',fontweight='bold')"
   ]
  },
  {
   "cell_type": "markdown",
   "metadata": {
    "id": "QEWTL6jgdh7L"
   },
   "source": [
    "### Submit на Kaggle"
   ]
  },
  {
   "cell_type": "markdown",
   "metadata": {
    "id": "wrjQ6cxHIGtk"
   },
   "source": [
    "![alt text](https://i.redd.it/nuaphfioz0211.jpg)"
   ]
  },
  {
   "cell_type": "code",
   "execution_count": null,
   "metadata": {
    "executionInfo": {
     "elapsed": 6859,
     "status": "ok",
     "timestamp": 1639673734934,
     "user": {
      "displayName": "Alex Sham",
      "photoUrl": "https://lh3.googleusercontent.com/a/default-user=s64",
      "userId": "06199239520348582603"
     },
     "user_tz": -180
    },
    "id": "9UTbU0Zbc6Hb"
   },
   "outputs": [],
   "source": [
    "test_dataset = SimpsonsDataset(test_files, mode=\"test\")\n",
    "test_loader = DataLoader(test_dataset, shuffle=False, batch_size=64)\n",
    "probs = predict(model_resnet, test_loader)\n",
    "\n",
    "\n",
    "preds = label_encoder.inverse_transform(np.argmax(probs, axis=1))\n",
    "test_filenames = [path.name for path in test_dataset.files]\n"
   ]
  },
  {
   "cell_type": "code",
   "execution_count": null,
   "metadata": {
    "colab": {
     "base_uri": "https://localhost:8080/"
    },
    "executionInfo": {
     "elapsed": 233,
     "status": "ok",
     "timestamp": 1639673737097,
     "user": {
      "displayName": "Alex Sham",
      "photoUrl": "https://lh3.googleusercontent.com/a/default-user=s64",
      "userId": "06199239520348582603"
     },
     "user_tz": -180
    },
    "id": "_rTtbV1teD2k",
    "outputId": "dd1b7001-acea-4900-e0f0-e592782e8f99"
   },
   "outputs": [],
   "source": [
    "! ls "
   ]
  },
  {
   "cell_type": "code",
   "execution_count": null,
   "metadata": {
    "colab": {
     "base_uri": "https://localhost:8080/",
     "height": 206
    },
    "executionInfo": {
     "elapsed": 250,
     "status": "ok",
     "timestamp": 1639673770250,
     "user": {
      "displayName": "Alex Sham",
      "photoUrl": "https://lh3.googleusercontent.com/a/default-user=s64",
      "userId": "06199239520348582603"
     },
     "user_tz": -180
    },
    "id": "yw0zZ-Hdd89s",
    "outputId": "00f948a5-f058-4fce-c409-6092b4b7038b"
   },
   "outputs": [],
   "source": [
    "import pandas as pd\n",
    "#my_submit = pd.read_csv(\"gdrive/My Drive/simpsons/data/labels.csv\")\n",
    "my_submit = pd.DataFrame({'Id': test_filenames, 'Expected': preds}) \n",
    "my_submit.head()"
   ]
  },
  {
   "cell_type": "code",
   "execution_count": null,
   "metadata": {
    "colab": {
     "base_uri": "https://localhost:8080/"
    },
    "executionInfo": {
     "elapsed": 254,
     "status": "ok",
     "timestamp": 1639673772936,
     "user": {
      "displayName": "Alex Sham",
      "photoUrl": "https://lh3.googleusercontent.com/a/default-user=s64",
      "userId": "06199239520348582603"
     },
     "user_tz": -180
    },
    "id": "3wDotZJgWIsB",
    "outputId": "5ef8f566-a5df-4147-82de-c9085ef28874"
   },
   "outputs": [],
   "source": [
    "my_submit.shape"
   ]
  },
  {
   "cell_type": "code",
   "execution_count": null,
   "metadata": {
    "executionInfo": {
     "elapsed": 233,
     "status": "ok",
     "timestamp": 1639673775917,
     "user": {
      "displayName": "Alex Sham",
      "photoUrl": "https://lh3.googleusercontent.com/a/default-user=s64",
      "userId": "06199239520348582603"
     },
     "user_tz": -180
    },
    "id": "5rdlyMKtiYe2"
   },
   "outputs": [],
   "source": [
    "#my_submit.to_csv('simple_cnn_baseline.csv', index=False)\n",
    "my_submit.to_csv('/content/gdrive/MyDrive/Colab Notebooks/dl-dz22/my_submission.csv',index = False)\n",
    "\n",
    "\n"
   ]
  },
  {
   "cell_type": "markdown",
   "metadata": {
    "id": "OMtp_1n4I2lj"
   },
   "source": [
    "# **Score на kaggle: 0.99468**\n",
    "\n",
    "# **FIO: Alexander_Sholokhov**"
   ]
  },
  {
   "cell_type": "markdown",
   "metadata": {
    "id": "Wwe-ELSJseBc"
   },
   "source": [
    "# **Что было сделано:**\n",
    "\n",
    "1. Добавлены аугментации(изменение яркости, контрастности, насыщенности и поворот изображения. Сгенерированные аугментации добавлены к тестовому сету)\n",
    "2. Вместо предложенной простой нейронной сети дообучал resnet50\n",
    "3. Для обучения использовал lr_scheduler для изменение скорости обучения(learning rate) в зависимости от количества эпох\n",
    "4. При обучении использовал разные параметры эпох, размера батчей, а также для lr_scheduler менял коэффициент снижения скорости обучения gamma и Период снижения скорости обучения step_size.\n",
    "\n",
    "\n",
    "В результате лучшие показатели получились при таких настройках:\n",
    "\n",
    "\n",
    "*   epochs=6\n",
    "*   batch_size=36\n",
    "*   gamma=0.1\n",
    "*   step_size=2\n",
    "\n",
    "Параметры аугментаций:\n",
    "1. ColorJitter для (яркость, контраст, насыщенность) : 0.45\n",
    "2. RandomRotation (угол поворота): 30\n",
    "\n",
    "В качестве документации использовались официальные источники:\n",
    "1. https://pytorch.org/docs/stable/generated/torch.optim.lr_scheduler.StepLR.html\n",
    "2. https://pytorch.org/docs/stable/generated/torch.optim.Adam.html?highlight=adam#torch.optim.Adam\n",
    "3. https://pytorch.org/vision/stable/transforms.html\n",
    "4. https://pytorch.org/vision/stable/auto_examples/plot_transforms.html\n",
    "5. Обсуждения в телеграмме\n",
    "6. Stackoverflow\n",
    "7. Комментарии под заданиями на степике, в особенности по предложению использовать resnet50"
   ]
  },
  {
   "cell_type": "markdown",
   "metadata": {
    "id": "HvwHso5FllB2"
   },
   "source": [
    "Таблица с сабмитами на kaggle\n",
    "\n",
    "![image.png](data:image/png;base64,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)\n",
    "\n"
   ]
  },
  {
   "cell_type": "markdown",
   "metadata": {
    "id": "h3M9SQZ7MuUq"
   },
   "source": [
    "## Приключение?\n",
    "\n",
    "А теперь самое интересное, мы сделали простенькую сверточную сеть и смогли отправить сабмит, но получившийся скор нас явно не устраивает. Надо с этим что-то сделать. \n",
    "\n",
    "Несколько срочныйх улучшейни для нашей сети, которые наверняка пришли Вам в голову: \n",
    "\n",
    "\n",
    "*   Учим дольше и изменяем гиперпараметры сети\n",
    "*  learning rate, batch size, нормализация картинки и вот это всё\n",
    "*   Кто же так строит нейронные сети? А где пулинги и батч нормы? Надо добавлять\n",
    "*  Ну разве Адам наше все? [adamW](https://www.fast.ai/2018/07/02/adam-weight-decay/) для практика, [статейка для любителей](https://openreview.net/pdf?id=ryQu7f-RZ) (очень хороший анализ), [наши ](https://github.com/MichaelKonobeev/adashift/) эксперименты для заинтересованных.\n",
    "\n",
    "* Ну разве это deep learning? Вот ResNet и Inception, которые можно зафайнтьюнить под наши данные, вот это я понимаю (можно и обучить в колабе, а можно и [готовые](https://github.com/Cadene/pretrained-models.pytorch) скачать).\n",
    "\n",
    "* Данных не очень много, можно их аугументировать и  доучититься на новом датасете ( который уже будет состоять из, как  пример аугументации, перевернутых изображений)\n",
    "\n",
    "* Стоит подумать об ансамблях\n",
    "\n",
    "\n",
    "Надеюсь, что у Вас получится!\n",
    "\n",
    "![alt text](https://pbs.twimg.com/profile_images/798904974986113024/adcQiVdV.jpg)\n"
   ]
  }
 ],
 "metadata": {
  "accelerator": "GPU",
  "colab": {
   "collapsed_sections": [],
   "name": "my_simpsons_baseline.ipynb",
   "provenance": []
  },
  "kernelspec": {
   "display_name": "Python 3 (ipykernel)",
   "language": "python",
   "name": "python3"
  },
  "language_info": {
   "codemirror_mode": {
    "name": "ipython",
    "version": 3
   },
   "file_extension": ".py",
   "mimetype": "text/x-python",
   "name": "python",
   "nbconvert_exporter": "python",
   "pygments_lexer": "ipython3",
   "version": "3.11.3"
  }
 },
 "nbformat": 4,
 "nbformat_minor": 1
}
